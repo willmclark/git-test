{
 "cells": [
  {
   "cell_type": "markdown",
   "id": "fdf69ff8",
   "metadata": {},
   "source": [
    "# Data Science Tools and Ecosystem"
   ]
  },
  {
   "cell_type": "markdown",
   "id": "4d6a894e",
   "metadata": {},
   "source": [
    "In this notebook, Data Science tools and Data Science ecosystems are summarized."
   ]
  },
  {
   "cell_type": "markdown",
   "id": "57988c91",
   "metadata": {},
   "source": [
    "**Objectives:**\n",
    "\n",
    "- List popular languages for Data Science\n",
    "- List popular libraries used by Data Scientists\n",
    "- Learn about open source tools used in Data Science\n",
    "- Learn how to create and edit Jupyter Notebooks\n",
    "\n",
    "## Author\n",
    "William Clark"
   ]
  },
  {
   "cell_type": "markdown",
   "id": "6d0f78dc",
   "metadata": {},
   "source": [
    "Some popular languages that Data Scientists use include the following:\n",
    "\n",
    "1. Python\n",
    "2. R\n",
    "3. Scala\n",
    "4. Julia\n",
    "    "
   ]
  },
  {
   "cell_type": "markdown",
   "id": "1ef05422",
   "metadata": {},
   "source": [
    "Some libraries that are commonly used by Data Scientists include the following:\n",
    "\n",
    "1. NumPy\n",
    "2. Pandas\n",
    "3. SciKit-Learn\n",
    "4. TensorFlow\n",
    "5. Matplotlib"
   ]
  },
  {
   "cell_type": "markdown",
   "id": "2209a649",
   "metadata": {},
   "source": [
    "|Data Science Tools|\n",
    "-- \n",
    "|Jupyter Notebooks|\n",
    "|RStudio|\n",
    "|Apache Spark|"
   ]
  },
  {
   "cell_type": "markdown",
   "id": "58949450",
   "metadata": {},
   "source": [
    "### Below are a few examples of evaluating arithmetic expressions in Python."
   ]
  },
  {
   "cell_type": "code",
   "execution_count": 1,
   "id": "dc1cb5ae",
   "metadata": {},
   "outputs": [
    {
     "data": {
      "text/plain": [
       "17"
      ]
     },
     "execution_count": 1,
     "metadata": {},
     "output_type": "execute_result"
    }
   ],
   "source": [
    "# This is a simple arithmetic expression to multiply and then add integers.\n",
    "\n",
    "(3*4)+5"
   ]
  },
  {
   "cell_type": "code",
   "execution_count": 6,
   "id": "424f4999",
   "metadata": {},
   "outputs": [
    {
     "name": "stdout",
     "output_type": "stream",
     "text": [
      "3.3333333333333335\n"
     ]
    }
   ],
   "source": [
    "# This will convert minutes into hours by dividing by 60.\n",
    "\n",
    "minutes=200\n",
    "hours=(minutes/60)\n",
    "\n",
    "print(hours)"
   ]
  },
  {
   "cell_type": "code",
   "execution_count": null,
   "id": "7a01a6e2",
   "metadata": {},
   "outputs": [],
   "source": []
  },
  {
   "cell_type": "markdown",
   "id": "ef491ea1",
   "metadata": {},
   "source": []
  }
 ],
 "metadata": {
  "kernelspec": {
   "display_name": "Python 3 (ipykernel)",
   "language": "python",
   "name": "python3"
  },
  "language_info": {
   "codemirror_mode": {
    "name": "ipython",
    "version": 3
   },
   "file_extension": ".py",
   "mimetype": "text/x-python",
   "name": "python",
   "nbconvert_exporter": "python",
   "pygments_lexer": "ipython3",
   "version": "3.11.5"
  }
 },
 "nbformat": 4,
 "nbformat_minor": 5
}
